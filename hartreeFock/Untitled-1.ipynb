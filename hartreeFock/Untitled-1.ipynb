{
 "cells": [
  {
   "cell_type": "code",
   "execution_count": 20,
   "id": "28de0052",
   "metadata": {},
   "outputs": [
    {
     "data": {
      "text/plain": [
       "(0.9999999873835927, 1.3815938746229745e-14)"
      ]
     },
     "execution_count": 20,
     "metadata": {},
     "output_type": "execute_result"
    }
   ],
   "source": [
    "import numpy as np\n",
    "import scipy.integrate as integrate\n",
    "import math\n",
    "\n",
    "# Datos proporcionados\n",
    "N_list = [1, 1, 1, 1, 1, 1, 2, 1]\n",
    "A_list = [10.335672, 5.553473, 3.453336, 2.416445, 1.555772, 0.889955, 0.637402, 0.626614]\n",
    "C_list = [0.002018082754, -0.072792117640, -0.208121324693, -1.146303389482, \n",
    "          -0.011000884459, 0.000579544718, -0.000711208001, -0.000380564870]\n",
    "\n",
    "# Cálculo de la función de onda radial R(r)\n",
    "def R(r):\n",
    "    result = 0.0\n",
    "    for N_i, A_i, C_i in zip(N_list, A_list, C_list):\n",
    "        K_i = np.power(2*A_i, N_i + 0.5)/np.sqrt(math.factorial(2*N_i))\n",
    "        result += C_i *K_i* (r ** (N_i - 1)) * np.exp(-A_i * r)/np.sqrt(2)\n",
    "    return result\n",
    "\n",
    "# Normalización: ∫₀^∞ |R(r)|² r² dr\n",
    "norm_integral, error = integrate.quad(lambda r: R(r)**2 * r**2, 0, np.inf, epsabs=1.49e-14, epsrel=1.49e-14, limit=1000)\n",
    "\n",
    "\n",
    "norm_integral, error\n"
   ]
  },
  {
   "cell_type": "code",
   "execution_count": null,
   "id": "86451637",
   "metadata": {},
   "outputs": [
    {
     "name": "stdout",
     "output_type": "stream",
     "text": [
      "Full Factorial length:\n",
      "256\n",
      "Frac Factorial design:\n",
      "4\n",
      "Plackett-Burman design:\n",
      "12\n"
     ]
    },
    {
     "ename": "",
     "evalue": "",
     "output_type": "error",
     "traceback": [
      "\u001b[1;31mThe Kernel crashed while executing code in the current cell or a previous cell. \n",
      "\u001b[1;31mPlease review the code in the cell(s) to identify a possible cause of the failure. \n",
      "\u001b[1;31mClick <a href='https://aka.ms/vscodeJupyterKernelCrash'>here</a> for more info. \n",
      "\u001b[1;31mView Jupyter <a href='command:jupyter.viewOutput'>log</a> for further details."
     ]
    }
   ],
   "source": [
    "from pyDOE3 import *\n",
    "import pandas as pd\n",
    "\n",
    "full_factorial_design = fullfact([2, 2, 2, 2, 2, 2, 2, 2])\n",
    "# Generación de un diseño factorial fraccionado\n",
    "frac_factorial_design = fracfact('A B AB')\n",
    "# Generacion de un diseño de Plackett-Burman\n",
    "pb_design = pbdesign(8)\n",
    "\n",
    "print(\"Full Factorial length:\")\n",
    "print(len(full_factorial_design))\n",
    "\n",
    "print(\"Frac Factorial design:\")\n",
    "print(len(frac_factorial_design))\n",
    "\n",
    "print(\"Plackett-Burman design:\")\n",
    "print(len(pb_design))\n",
    "\n",
    "\n"
   ]
  },
  {
   "cell_type": "code",
   "execution_count": 2,
   "id": "f9b28901",
   "metadata": {},
   "outputs": [
    {
     "name": "stdout",
     "output_type": "stream",
     "text": [
      "\n",
      "Efectos estimados:\n",
      "     Effect\n",
      "A  9.857150\n",
      "C  6.174631\n",
      "E  3.736969\n",
      "B  1.156802\n",
      "G -0.580529\n",
      "F  0.250667\n",
      "D -0.162703\n"
     ]
    },
    {
     "data": {
      "image/png": "[encoded data removed]",
      "text/plain": [
       "<Figure size 640x480 with 1 Axes>"
      ]
     },
     "metadata": {},
     "output_type": "display_data"
    },
    {
     "name": "stdout",
     "output_type": "stream",
     "text": [
      "\n",
      "ANOVA:\n",
      "           df        sum_sq     mean_sq    F  PR(>F)\n",
      "A         1.0  1.943268e+02  194.326824  0.0     NaN\n",
      "B         1.0  2.676380e+00    2.676380  0.0     NaN\n",
      "C         1.0  7.625214e+01   76.252144  0.0     NaN\n",
      "D         1.0  5.294438e-02    0.052944  0.0     NaN\n",
      "E         1.0  2.792987e+01   27.929873  0.0     NaN\n",
      "F         1.0  1.256682e-01    0.125668  0.0     NaN\n",
      "G         1.0  6.740268e-01    0.674027  0.0     NaN\n",
      "Residual  0.0  5.490287e-29         inf  NaN     NaN\n"
     ]
    },
    {
     "name": "stderr",
     "output_type": "stream",
     "text": [
      "c:\\Users\\Ivan_lg\\anaconda3\\Lib\\site-packages\\statsmodels\\stats\\anova.py:142: RuntimeWarning: divide by zero encountered in scalar divide\n",
      "  (model.ssr / model.df_resid))\n"
     ]
    }
   ],
   "source": [
    "from pyDOE3 import pbdesign\n",
    "import pandas as pd\n",
    "import numpy as np\n",
    "import matplotlib.pyplot as plt\n",
    "import statsmodels.api as sm\n",
    "from statsmodels.formula.api import ols\n",
    "\n",
    "# 1. Crear un diseño Plackett-Burman para 7 factores\n",
    "design = pbdesign(7)\n",
    "columns = ['A', 'B', 'C', 'D', 'E', 'F', 'G']\n",
    "df = pd.DataFrame(design, columns=columns)\n",
    "\n",
    "# 2. Simular una respuesta con algunos factores que afectan el resultado\n",
    "# Supongamos que A, C y E tienen efectos reales\n",
    "np.random.seed(42)\n",
    "df['Response'] = (\n",
    "    5 * df['A'] +\n",
    "    3 * df['C'] +\n",
    "    2 * df['E'] +\n",
    "    np.random.normal(0, 1, size=len(df))  # ruido aleatorio\n",
    ")\n",
    "\n",
    "# 3. Calcular efectos\n",
    "effects = {}\n",
    "for factor in columns:\n",
    "    high = df[df[factor] == 1]['Response'].mean()\n",
    "    low = df[df[factor] == -1]['Response'].mean()\n",
    "    effects[factor] = high - low\n",
    "\n",
    "effects_df = pd.DataFrame.from_dict(effects, orient='index', columns=['Effect'])\n",
    "effects_df = effects_df.sort_values('Effect', key=abs, ascending=False)\n",
    "print(\"\\nEfectos estimados:\")\n",
    "print(effects_df)\n",
    "\n",
    "# 4. Gráfico de efectos\n",
    "effects_df['Effect'].plot(kind='bar')\n",
    "plt.title(\"Efectos de los Factores (Plackett-Burman)\")\n",
    "plt.ylabel(\"Magnitud del Efecto\")\n",
    "plt.tight_layout()\n",
    "plt.show()\n",
    "\n",
    "# 5. Análisis ANOVA con modelo lineal\n",
    "# Convertimos los factores a fórmula tipo A + B + C + ...\n",
    "formula = 'Response ~ ' + ' + '.join(columns)\n",
    "model = ols(formula, data=df).fit()\n",
    "anova_table = sm.stats.anova_lm(model, typ=1)\n",
    "\n",
    "\n",
    "print(\"\\nANOVA:\")\n",
    "print(anova_table)\n"
   ]
  }
 ],
 "metadata": {
  "kernelspec": {
   "display_name": "base",
   "language": "python",
   "name": "python3"
  },
  "language_info": {
   "codemirror_mode": {
    "name": "ipython",
    "version": 3
   },
   "file_extension": ".py",
   "mimetype": "text/x-python",
   "name": "python",
   "nbconvert_exporter": "python",
   "pygments_lexer": "ipython3",
   "version": "3.12.7"
  }
 },
 "nbformat": 4,
 "nbformat_minor": 5
}
