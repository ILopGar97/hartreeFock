{
 "cells": [
  {
   "cell_type": "code",
   "execution_count": 16,
   "id": "b5797750",
   "metadata": {},
   "outputs": [],
   "source": [
    "import json\n",
    "from typing import Dict\n",
    "\n",
    "def load_pubchem_json(path: str) -> Dict[int, dict]:\n",
    "    with open(path, \"r\", encoding=\"utf-8\") as f:\n",
    "        data = json.load(f)\n",
    "        pubchem_data = {}\n",
    "\n",
    "        columns = data[\"Table\"][\"Columns\"][\"Column\"]\n",
    "        for row in data[\"Table\"][\"Row\"]:\n",
    "            cells = row[\"Cell\"]\n",
    "            try:\n",
    "                Z = int(cells[0])\n",
    "                pubchem_data[Z] = {}\n",
    "\n",
    "                for i, column_name in enumerate(columns):\n",
    "                    value = cells[i] if i < len(cells) and cells[i] != \"\" else None\n",
    "\n",
    "                    # Convert numerical fields where needed\n",
    "                    if column_name in {\"AtomicMass\", \"ElectronAffinity\", \"MeltingPoint\", \"BoilingPoint\", \"Density\", \"IonizationEnergy\", \"Electronegativity\", \"AtomicRadius\"}:\n",
    "                        try:\n",
    "                            value = float(value) if value is not None else None\n",
    "                        except ValueError:\n",
    "                            value = None\n",
    "\n",
    "                    pubchem_data[Z][column_name] = value\n",
    "\n",
    "            except (ValueError, IndexError):\n",
    "                continue\n",
    "\n",
    "        return pubchem_data\n",
    "\n",
    "# Prueba de carga\n",
    "datos_atomicos = load_pubchem_json(\"PubChemElements_all.json\")\n",
    "\n",
    "\n",
    "elementos = {\n",
    "    Z: (data[\"Symbol\"], data[\"Name\"])\n",
    "    for Z, data in datos_atomicos.items()\n",
    "    if Z > 0 and data.get(\"Symbol\") and data.get(\"Name\")\n",
    "}\n",
    "radios_atomicos = {\n",
    "    Z: data[\"AtomicRadius\"]\n",
    "    for Z, data in datos_atomicos.items()\n",
    "    if Z > 0 and data.get(\"AtomicRadius\")\n",
    "}\n",
    "electronegatividad = {\n",
    "    Z: data[\"Electronegativity\"]\n",
    "    for Z, data in datos_atomicos.items()\n",
    "    if Z > 0 and data.get(\"Electronegativity\")\n",
    "}\n",
    "\n"
   ]
  }
 ],
 "metadata": {
  "kernelspec": {
   "display_name": "base",
   "language": "python",
   "name": "python3"
  },
  "language_info": {
   "codemirror_mode": {
    "name": "ipython",
    "version": 3
   },
   "file_extension": ".py",
   "mimetype": "text/x-python",
   "name": "python",
   "nbconvert_exporter": "python",
   "pygments_lexer": "ipython3",
   "version": "3.12.7"
  }
 },
 "nbformat": 4,
 "nbformat_minor": 5
}
